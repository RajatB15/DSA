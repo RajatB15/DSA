{
  "nbformat": 4,
  "nbformat_minor": 0,
  "metadata": {
    "colab": {
      "name": "Arrays-and-strings-ctci.ipynb",
      "provenance": [],
      "private_outputs": true,
      "authorship_tag": "ABX9TyO0Jdx7UaaeOdJl7b3i6H5m",
      "include_colab_link": true
    },
    "kernelspec": {
      "name": "python3",
      "display_name": "Python 3"
    }
  },
  "cells": [
    {
      "cell_type": "markdown",
      "metadata": {
        "id": "view-in-github",
        "colab_type": "text"
      },
      "source": [
        "<a href=\"https://colab.research.google.com/github/RajatB15/DSA/blob/master/Arrays_and_strings_ctci.ipynb\" target=\"_parent\"><img src=\"https://colab.research.google.com/assets/colab-badge.svg\" alt=\"Open In Colab\"/></a>"
      ]
    },
    {
      "cell_type": "markdown",
      "metadata": {
        "id": "62BRsqQZvgAj"
      },
      "source": [
        "Question 1:\n",
        "\n",
        "Check if all the characters in a given string are unique without using special apis or data structures "
      ]
    },
    {
      "cell_type": "code",
      "metadata": {
        "id": "-TYAk-sPvbsE"
      },
      "source": [
        "def checker(word):\n",
        "  if len(word)>128:\n",
        "    return false\n",
        "\n",
        "  allPresentChars=[False]*128\n",
        "  for ch in word:\n",
        "    asc= ord(ch)\n",
        "    if allPresentChars[asc]:\n",
        "      return False\n",
        "    allPresentChars[asc]=True\n",
        "  return True\n",
        "\n",
        "\n",
        "print(checker(\"ab-cdef\"))\n",
        "     "
      ],
      "execution_count": null,
      "outputs": []
    },
    {
      "cell_type": "markdown",
      "metadata": {
        "id": "n_RUhGo3xrXp"
      },
      "source": [
        "Question 2:\n",
        "\n",
        "Given 2 strings, write a method to detect is one is permutation of the other \n"
      ]
    },
    {
      "cell_type": "code",
      "metadata": {
        "id": "eiNZKBHfx4_2"
      },
      "source": [
        "def checker(word,mainword):\n",
        "  res1= checkHelper(word)\n",
        "  res2= checkHelper(mainword)\n",
        "  return res1 == res2\n",
        "\n",
        "def checkHelper(word):\n",
        "  allPresentChars=[0]*128\n",
        "  for ch in word:\n",
        "    asc= ord(ch)\n",
        "    allPresentChars[asc]+=1\n",
        "  return allPresentChars\n",
        "print(checker(\"abc\",\"bca\"))\n"
      ],
      "execution_count": null,
      "outputs": []
    },
    {
      "cell_type": "code",
      "metadata": {
        "id": "VJekZn_m04Op"
      },
      "source": [
        "def checker(word,mainword):\n",
        "  word= sorted(word)\n",
        "  mainword= sorted(mainword)\n",
        "  return word== mainword\n",
        "\n",
        "print(checker(\"abc\",\"bcaqa\"))\n",
        "\n"
      ],
      "execution_count": null,
      "outputs": []
    }
  ]
}