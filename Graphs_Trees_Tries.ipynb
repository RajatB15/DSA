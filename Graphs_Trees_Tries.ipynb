{
  "nbformat": 4,
  "nbformat_minor": 0,
  "metadata": {
    "colab": {
      "name": "Graphs_Trees_Tries.ipynb",
      "provenance": [],
      "collapsed_sections": [],
      "authorship_tag": "ABX9TyOFHxphmeWRpIvRZe0xPv/i",
      "include_colab_link": true
    },
    "kernelspec": {
      "name": "python3",
      "display_name": "Python 3"
    }
  },
  "cells": [
    {
      "cell_type": "markdown",
      "metadata": {
        "id": "view-in-github",
        "colab_type": "text"
      },
      "source": [
        "<a href=\"https://colab.research.google.com/github/RajatB15/DSA/blob/master/Graphs_Trees_Tries.ipynb\" target=\"_parent\"><img src=\"https://colab.research.google.com/assets/colab-badge.svg\" alt=\"Open In Colab\"/></a>"
      ]
    },
    {
      "cell_type": "markdown",
      "metadata": {
        "id": "wc1TAUbmM0aP"
      },
      "source": [
        "Question:\n",
        "\n",
        "Create a list of list of each level of tree\n"
      ]
    },
    {
      "cell_type": "markdown",
      "metadata": {
        "id": "vy7n-EdVNCYG"
      },
      "source": [
        "This can be solved using breadth first or depth first algo.\n"
      ]
    },
    {
      "cell_type": "code",
      "metadata": {
        "id": "dOeMuJM7KwAe"
      },
      "source": [
        "class Node:\n",
        "  def __init__(self,value):\n",
        "    self.value=value\n",
        "    self.left=None\n",
        "    self.right=None"
      ],
      "execution_count": null,
      "outputs": []
    },
    {
      "cell_type": "code",
      "metadata": {
        "id": "Erlpq7bGE-es"
      },
      "source": [
        "from queue import Queue\n",
        "\n",
        "class Helper:\n",
        "  def binaryNodeLinker(self,node,leftn,rightn):\n",
        "    node.left=leftn\n",
        "    node.right=rightn\n",
        "\n",
        "class depthFirst:\n",
        "  def createLists(self,node,lists,level):\n",
        "    if node is None:\n",
        "      return\n",
        "    if lists[level]==None:\n",
        "      lists[level]=[node.value]\n",
        "    else:\n",
        "      lists[level].append(node.value)\n",
        "    self.createLists(node.left,lists,level+1)\n",
        "    self.createLists(node.right,lists,level+1)\n",
        "  \n",
        "  def LevelLinkedListGetter(self,node):\n",
        "    lists=[None]*100\n",
        "    self.createLists(node,lists,0)\n",
        "    return lists\n",
        "\n",
        "class breadthFirst:\n",
        "  def LevelLinkedListGetter(self,node):\n",
        "    lists=[[node]]\n",
        "    self.createLists(lists)\n",
        "    return lists\n",
        "\n",
        "  def printValues(self,nodeLists):\n",
        "    result=[]\n",
        "    for li in nodeLists:\n",
        "      tempLi=[]\n",
        "      for nodes in li:\n",
        "        tempLi.append(nodes.value)\n",
        "      result.append(tempLi)\n",
        "    return result\n",
        "\n",
        "  def createLists(self,lists):  \n",
        "    while(True):\n",
        "      tempList=[]\n",
        "      currentOperationalList = lists[-1]\n",
        "      for nd in currentOperationalList:\n",
        "        if nd.left!=None: \n",
        "          tempList.append(nd.left)\n",
        "        if nd.right!=None: \n",
        "          tempList.append(nd.right)\n",
        "      if len(tempList) != 0:\n",
        "        lists.append(tempList)\n",
        "      else:\n",
        "        break \n",
        "  "
      ],
      "execution_count": null,
      "outputs": []
    },
    {
      "cell_type": "code",
      "metadata": {
        "id": "zhdS2WK6Kh9Q",
        "outputId": "dea51d54-d77c-482c-b1fe-41d80705df48",
        "colab": {
          "base_uri": "https://localhost:8080/",
          "height": 71
        }
      },
      "source": [
        "n1=Node(1)\n",
        "n2=Node(2)\n",
        "n3=Node(3)\n",
        "n4=Node(4)\n",
        "n5=Node(5)\n",
        "n6=Node(6)\n",
        "n7=Node(7)\n",
        "n8=Node(8)\n",
        "\n",
        "h= Helper()\n",
        "h.binaryNodeLinker(n1,n2,n3)\n",
        "h.binaryNodeLinker(n2,n4,n5)\n",
        "h.binaryNodeLinker(n3,n6,None)\n",
        "h.binaryNodeLinker(n4,n7,n8)\n",
        "\n",
        "df=depthFirst()\n",
        "result=df.LevelLinkedListGetter(n1)\n",
        "print(result)\n",
        "\n",
        "bf=breadthFirst()\n",
        "result=bf.LevelLinkedListGetter(n1)\n",
        "print(bf.printValues(result))\n"
      ],
      "execution_count": null,
      "outputs": [
        {
          "output_type": "stream",
          "text": [
            "[[1], [2, 3], [4, 5, 6], [7, 8], None, None, None, None, None, None, None, None, None, None, None, None, None, None, None, None, None, None, None, None, None, None, None, None, None, None, None, None, None, None, None, None, None, None, None, None, None, None, None, None, None, None, None, None, None, None, None, None, None, None, None, None, None, None, None, None, None, None, None, None, None, None, None, None, None, None, None, None, None, None, None, None, None, None, None, None, None, None, None, None, None, None, None, None, None, None, None, None, None, None, None, None, None, None, None, None]\n",
            "[[1], [2, 3], [4, 5, 6], [7, 8]]\n"
          ],
          "name": "stdout"
        }
      ]
    },
    {
      "cell_type": "markdown",
      "metadata": {
        "id": "bKqPlHaIsqPh"
      },
      "source": [
        "Question 2:\n",
        "\n",
        "Check if tree is balanced - balanced tree = > height difference of each branch is + or -1\n"
      ]
    },
    {
      "cell_type": "code",
      "metadata": {
        "id": "2ofzMeFpsrTe"
      },
      "source": [
        "class Node:\n",
        "  def __init__(self,value):\n",
        "    self.value=value\n",
        "    self.left=None\n",
        "    self.right=None"
      ],
      "execution_count": null,
      "outputs": []
    },
    {
      "cell_type": "code",
      "metadata": {
        "id": "WYmjSEbftDU3"
      },
      "source": [
        "class Helper:\n",
        "\n",
        "\n",
        "  def binaryNodeLinker(self,node,leftn,rightn):\n",
        "    node.left=leftn\n",
        "    node.right=rightn\n",
        "\n",
        "    \n",
        "  def getHeight(self,node):\n",
        "    if node is None:\n",
        "      return -1\n",
        "    return max(self.getHeight(node.left),self.getHeight(node.right))+1\n",
        "\n",
        "  def resultGetter(self,node):\n",
        "    res= self.getHeight(node.left)-self.getHeight(node.right)\n",
        "    if abs(res)>1:\n",
        "      return False\n",
        "    return True\n",
        "\n",
        "  def checkHeight(self,node):\n",
        "    if node is None:\n",
        "      return -1\n",
        "    if (self.checkHeight(node.left)==-2) or (self.checkHeight(node.right)==-2):\n",
        "      return -2\n",
        "    else:\n",
        "      if abs(self.checkHeight(node.left)-self.checkHeight(node.right))>1:\n",
        "        return -2\n",
        "      else:\n",
        "        return max(self.getHeight(node.left),self.getHeight(node.right))+1\n",
        "\n",
        "  def optimizedResultGetter(self,node):\n",
        "    print(self.checkHeight(node))\n",
        "    return self.checkHeight(node)!=-2"
      ],
      "execution_count": null,
      "outputs": []
    },
    {
      "cell_type": "code",
      "metadata": {
        "id": "W-53_4MlvVUz",
        "outputId": "fd26df54-6968-4c6e-f50c-258bc1e7d9be",
        "colab": {
          "base_uri": "https://localhost:8080/",
          "height": 51
        }
      },
      "source": [
        "n1=Node(1)\n",
        "n2=Node(2)\n",
        "n3=Node(3)\n",
        "n4=Node(4)\n",
        "n5=Node(5)\n",
        "n6=Node(6)\n",
        "n7=Node(7)\n",
        "n8=Node(8)\n",
        "n9=Node(9)\n",
        "h= Helper()\n",
        "h.binaryNodeLinker(n1,n2,n3)\n",
        "h.binaryNodeLinker(n2,n4,n5)\n",
        "h.binaryNodeLinker(n3,n6,None)\n",
        "h.binaryNodeLinker(n4,n7,n8)\n",
        "#h.binaryNodeLinker(n7,n9,None)\n",
        "\n",
        "print(h.optimizedResultGetter(n1))"
      ],
      "execution_count": null,
      "outputs": [
        {
          "output_type": "stream",
          "text": [
            "3\n",
            "True\n"
          ],
          "name": "stdout"
        }
      ]
    },
    {
      "cell_type": "markdown",
      "metadata": {
        "id": "4hcXFPIDJoJa"
      },
      "source": [
        "Question\n",
        "\n",
        "Check if a binary tree is binary search tree\n",
        "\n",
        "solution1: Inorder traversal and comparing the node\n",
        "solution2: with having a min and max and cheking if every node falls in that range \n",
        "\n"
      ]
    },
    {
      "cell_type": "code",
      "metadata": {
        "id": "xBXhgBHnJzrp"
      },
      "source": [
        "class Node:\n",
        "  def __init__(self,value):\n",
        "    self.value=value\n",
        "    self.left=None\n",
        "    self.right=None"
      ],
      "execution_count": null,
      "outputs": []
    },
    {
      "cell_type": "code",
      "metadata": {
        "id": "XCp14gutJ4jJ"
      },
      "source": [
        "class Helper:\n",
        "\n",
        "  def binaryNodeLinker(self,node,leftn,rightn):\n",
        "    node.left=leftn\n",
        "    node.right=rightn\n",
        "\n",
        "  def CheckIfBst(self,node):\n",
        "    if node is None:\n",
        "      return True\n",
        "\n",
        "    if  node.left is not None and not self.CheckIfBst(node.left):\n",
        "      return False\n",
        "\n",
        "    if node.left is not None and node.right is not None:\n",
        "      if node.left.value>node.value or node.value >= node.right.value:\n",
        "        return False\n",
        "\n",
        "    if node.right is not None and not self.CheckIfBst(node.right):\n",
        "      return False\n",
        "      \n",
        "    return True\n",
        "    \n",
        "\n",
        "  def resultGetter(self,node):\n",
        "    return self.CheckIfBst(node) "
      ],
      "execution_count": null,
      "outputs": []
    },
    {
      "cell_type": "code",
      "metadata": {
        "id": "h69gUGGeTAhI"
      },
      "source": [
        "class OptiHelper:\n",
        "\n",
        "  def __init__(self):\n",
        "    self.lastPrinted=None\n",
        "\n",
        "  def binaryNodeLinker(self,node,leftn,rightn):\n",
        "    node.left=leftn\n",
        "    node.right=rightn\n",
        "    \n",
        "  def OptimizedCheckIfBst(self,node,min,max):\n",
        "    if node is None:\n",
        "      return True\n",
        "    if ((min!=None and node.value<=min) or max!=None and node.value>=max):\n",
        "      return False\n",
        "    if ((not self.OptimizedCheckIfBst(node.left,None,node.value)) or (not self.OptimizedCheckIfBst(node.right,node.value,None))):\n",
        "      return False\n",
        "    return True\n",
        "  def resultGetter(self,node):\n",
        "    return self.OptimizedCheckIfBst(node,None,None)"
      ],
      "execution_count": null,
      "outputs": []
    },
    {
      "cell_type": "code",
      "metadata": {
        "id": "1ZZ7O4FCNB-M",
        "outputId": "8bb7c77e-139e-4b33-ab66-97e1d7ac2e4a",
        "colab": {
          "base_uri": "https://localhost:8080/",
          "height": 34
        }
      },
      "source": [
        "n1=Node(1)\n",
        "n2=Node(2)\n",
        "n3=Node(3)\n",
        "n4=Node(4)\n",
        "n5=Node(5)\n",
        "n6=Node(6)\n",
        "n7=Node(7)\n",
        "n8=Node(8)\n",
        "n9=Node(9)\n",
        "#h= Helper()\n",
        "h=OptiHelper()\n",
        "h.binaryNodeLinker(n4,n2,n6)\n",
        "h.binaryNodeLinker(n2,n1,n3)\n",
        "h.binaryNodeLinker(n6,n5,n7)\n",
        "\n",
        "print(h.resultGetter(n4))"
      ],
      "execution_count": null,
      "outputs": [
        {
          "output_type": "stream",
          "text": [
            "True\n"
          ],
          "name": "stdout"
        }
      ]
    },
    {
      "cell_type": "markdown",
      "metadata": {
        "id": "-X_acXMZafZf"
      },
      "source": [
        "Question:\n",
        "\n",
        "Find the next element of the BST (in line)\n"
      ]
    },
    {
      "cell_type": "code",
      "metadata": {
        "id": "m6496PlCag7v"
      },
      "source": [
        "class Node:\n",
        "  def __init__(self,value):\n",
        "    self.value=value\n",
        "    self.parent= None\n",
        "    self.left=None\n",
        "    self.right=None"
      ],
      "execution_count": null,
      "outputs": []
    },
    {
      "cell_type": "code",
      "metadata": {
        "id": "XG58Be33bBfF"
      },
      "source": [
        "class Helper:\n",
        "  def binaryNodeLinker(self,node,leftn,rightn,parentn):\n",
        "    node.parent=parentn\n",
        "    node.left=leftn\n",
        "    node.right=rightn\n",
        "\n",
        "  def getNextNode(self,node):\n",
        "    if node.right is not None:\n",
        "      return node.right.value\n",
        "\n",
        "    else:\n",
        "      nodeChecker=node\n",
        "      while nodeChecker.parent is not None:\n",
        "        if nodeChecker.right is not None:\n",
        "          return nodeChecker.value\n",
        "        else:\n",
        "          nodeChecker= nodeChecker.parent\n",
        "      return None\n"
      ],
      "execution_count": null,
      "outputs": []
    },
    {
      "cell_type": "code",
      "metadata": {
        "id": "JxwksSLedG-D",
        "outputId": "3674f1a9-4250-4656-f45d-5952a257020a",
        "colab": {
          "base_uri": "https://localhost:8080/",
          "height": 34
        }
      },
      "source": [
        "n1=Node(1)\n",
        "n2=Node(2)\n",
        "n3=Node(3)\n",
        "n4=Node(4)\n",
        "n5=Node(5)\n",
        "n6=Node(6)\n",
        "n7=Node(7)\n",
        "n8=Node(8)\n",
        "n9=Node(9)\n",
        "h= Helper()\n",
        "\n",
        "h.binaryNodeLinker(n4,n2,n6,None)\n",
        "h.binaryNodeLinker(n2,n1,n3,n4)\n",
        "h.binaryNodeLinker(n6,n5,n7,n4)\n",
        "h.binaryNodeLinker(n1,None,None,n2)\n",
        "h.binaryNodeLinker(n3,None,None,n2)\n",
        "h.binaryNodeLinker(n4,None,None,n6)\n",
        "h.binaryNodeLinker(n7,None,None,n6)\n",
        "\n",
        "print(h.getNextNode(n4))"
      ],
      "execution_count": null,
      "outputs": [
        {
          "output_type": "stream",
          "text": [
            "6\n"
          ],
          "name": "stdout"
        }
      ]
    },
    {
      "cell_type": "markdown",
      "metadata": {
        "id": "EovUAw7qmxvk"
      },
      "source": [
        "Question:\n",
        "\n",
        "Project dependency question (graph)\n",
        "\n"
      ]
    },
    {
      "cell_type": "code",
      "metadata": {
        "id": "CgnIclk7zGVz",
        "outputId": "600ba8d3-ab01-46be-eda9-e7d5bf2b540c",
        "colab": {
          "base_uri": "https://localhost:8080/",
          "height": 1000
        }
      },
      "source": [
        "class Graph:\n",
        "  def __init__(self):\n",
        "    self.AllProjects=[]\n",
        "\n",
        "  def ProcessOrder(self):\n",
        "      FinalOrderOfProjects=[]\n",
        "      ProjectsToProcess=self.AllProjects\n",
        "      while ProjectsToProcess:\n",
        "        tempList=[]\n",
        "        for project in ProjectsToProcess:\n",
        "          if project.IncomingDependencies==0:\n",
        "            print(\"Adding to final list: \"+project.Name)\n",
        "            FinalOrderOfProjects.append(project)\n",
        "            for outDeps in project.OutgoingDependencyList:\n",
        "              outDeps.decrementIncomingDependency()\n",
        "              if outDeps not in tempList:\n",
        "                tempList.append(outDeps)\n",
        "          else:\n",
        "            print(project.Name+\" still has \"+str(project.IncomingDependencies)+ \" incoming dependencies\")\n",
        "          print(\"To process :\")\n",
        "          self.pr(tempList)\n",
        "          print(\"____________________________________________________\")\n",
        "        ProjectsToProcess=tempList\n",
        "      return FinalOrderOfProjects\n",
        "\n",
        "  def DependencyTreeBuilder(self,node,deps):\n",
        "    for dep in deps:\n",
        "      dep.incrementIncomingDependency()\n",
        "      node.OutgoingDependencyList.append(dep)\n",
        "      if dep not in self.AllProjects:\n",
        "        self.AllProjects.append(dep)\n",
        "    if node not in self.AllProjects:\n",
        "        self.AllProjects.append(node)\n",
        "\n",
        "  def pr(self,projects):\n",
        "    for x in projects:\n",
        "      print(x.Name)\n",
        "\n",
        "  def printAllProjects(self):\n",
        "    for x in self.AllProjects:\n",
        "      print(x.Name)\n",
        "\n",
        "\n",
        "class Node:\n",
        "  def __init__(self,name):\n",
        "    self.IncomingDependencies=0\n",
        "    self.OutgoingDependencyList=[]\n",
        "    self.Name=name\n",
        "\n",
        "  def incrementIncomingDependency(self):\n",
        "    self.IncomingDependencies+=1\n",
        "\n",
        "  def decrementIncomingDependency(self):\n",
        "    self.IncomingDependencies-=1\n",
        "\n",
        "\n",
        "if __name__==\"__main__\":\n",
        "  n1=Node(\"a\")\n",
        "  n2=Node(\"b\")\n",
        "  n3=Node(\"c\")\n",
        "  n4=Node(\"d\")\n",
        "  n5=Node(\"e\")\n",
        "  n6=Node(\"f\")\n",
        "  n7=Node(\"g\")\n",
        "  # depHash=dict(n6=[n3,n1,n2],n3=[n1],n2=[n1],n1=[n5],n4=[n7])\n",
        "  gr=Graph()\n",
        "  gr.DependencyTreeBuilder(n6,[n3,n1,n2])\n",
        "  gr.DependencyTreeBuilder(n3,[n1])\n",
        "  gr.DependencyTreeBuilder(n2,[n1])\n",
        "  gr.DependencyTreeBuilder(n1,[n5])\n",
        "  gr.DependencyTreeBuilder(n4,[n7])\n",
        "  order=gr.ProcessOrder()\n",
        "  #gr.printAllProjects()\n",
        "  print(\"****************************************\")\n",
        "  print(\"the final order is\")\n",
        "  for proj in order:\n",
        "    print(proj.Name)\n",
        "  print(\"****************************************\")\n"
      ],
      "execution_count": null,
      "outputs": [
        {
          "output_type": "stream",
          "text": [
            "c still has 1 incoming dependencies\n",
            "To process :\n",
            "____________________________________________________\n",
            "a still has 3 incoming dependencies\n",
            "To process :\n",
            "____________________________________________________\n",
            "b still has 1 incoming dependencies\n",
            "To process :\n",
            "____________________________________________________\n",
            "Adding to final list: f\n",
            "To process :\n",
            "c\n",
            "a\n",
            "b\n",
            "____________________________________________________\n",
            "e still has 1 incoming dependencies\n",
            "To process :\n",
            "c\n",
            "a\n",
            "b\n",
            "____________________________________________________\n",
            "g still has 1 incoming dependencies\n",
            "To process :\n",
            "c\n",
            "a\n",
            "b\n",
            "____________________________________________________\n",
            "Adding to final list: d\n",
            "To process :\n",
            "c\n",
            "a\n",
            "b\n",
            "g\n",
            "____________________________________________________\n",
            "Adding to final list: c\n",
            "To process :\n",
            "a\n",
            "____________________________________________________\n",
            "a still has 1 incoming dependencies\n",
            "To process :\n",
            "a\n",
            "____________________________________________________\n",
            "Adding to final list: b\n",
            "To process :\n",
            "a\n",
            "____________________________________________________\n",
            "Adding to final list: g\n",
            "To process :\n",
            "a\n",
            "____________________________________________________\n",
            "Adding to final list: a\n",
            "To process :\n",
            "e\n",
            "____________________________________________________\n",
            "Adding to final list: e\n",
            "To process :\n",
            "____________________________________________________\n",
            "****************************************\n",
            "the final order is\n",
            "f\n",
            "d\n",
            "c\n",
            "b\n",
            "g\n",
            "a\n",
            "e\n",
            "****************************************\n"
          ],
          "name": "stdout"
        }
      ]
    },
    {
      "cell_type": "code",
      "metadata": {
        "id": "ceHR_R6b1h8S",
        "outputId": "98bc91ac-55f3-415c-8775-dbd17b9d4e9b",
        "colab": {
          "base_uri": "https://localhost:8080/",
          "height": 187
        }
      },
      "source": [
        "#Solving the same problem using depth first search\n",
        "\n",
        "##############\n",
        "#IMPORTANT\n",
        "##############\n",
        "\n",
        "#For theory check page number 193 and 194 of CTCI\n",
        "\n",
        "import enum\n",
        "\n",
        "class Stack:\n",
        "  def __init__(self):\n",
        "    self.OperationList=[]\n",
        "\n",
        "  def get(self):\n",
        "    return self.OperationList.pop()\n",
        "\n",
        "  def put(self,value):\n",
        "    self.OperationList.append(value)\n",
        "\n",
        "  def StackPrint(self):\n",
        "    for val in reversed(self.OperationList):\n",
        "      print(val)\n",
        "\n",
        "class Graph:\n",
        "  def __init__(self):\n",
        "    self.AllProjects=[]\n",
        "\n",
        "  def ProcessOrder(self):\n",
        "    orderStack=Stack()\n",
        "    for project in self.AllProjects:\n",
        "      if(self.DoDfs(project,orderStack)== False):\n",
        "        return None\n",
        "    return orderStack\n",
        "\n",
        "  def DoDfs(self,project,OrderStack):\n",
        "    if project.GetState()==NodeState.Partial:\n",
        "      return False\n",
        "    if project.GetState()==NodeState.Blank:\n",
        "      project.SetState(NodeState.Partial)\n",
        "      children=project.GetChildren()\n",
        "      for child in children:\n",
        "        if(self.DoDfs(child,OrderStack)== False):\n",
        "          return False\n",
        "      project.SetState(NodeState.Completed)\n",
        "      OrderStack.put(project)\n",
        "    return True\n",
        "\n",
        "  def DependencyTreeBuilder(self,node,deps):\n",
        "    for dep in deps:\n",
        "      node.OutgoingDependencyList.append(dep)\n",
        "      if dep not in self.AllProjects:\n",
        "        self.AllProjects.append(dep)\n",
        "    if node not in self.AllProjects:\n",
        "        self.AllProjects.append(node)\n",
        "\n",
        "\n",
        "  def pr(self,projects):\n",
        "    for x in projects:\n",
        "      print(x.Name)\n",
        "\n",
        "  def printAllProjects(self):\n",
        "    for x in self.AllProjects:\n",
        "      print(x.Name)\n",
        "\n",
        "\n",
        "class Node:\n",
        "  def __init__(self,name):\n",
        "    self.State= NodeState.Blank\n",
        "    self.OutgoingDependencyList=[] #Nothing but children \n",
        "    self.Name=name\n",
        "\n",
        "  def GetState(self):\n",
        "    return self.State\n",
        "\n",
        "  def SetState(self,nodestate):\n",
        "    self.State= nodestate\n",
        "\n",
        "  def GetChildren(self):\n",
        "    return self.OutgoingDependencyList\n",
        "\n",
        "class NodeState(enum.Enum):\n",
        "  Blank = 1\n",
        "  Partial = 2\n",
        "  Completed =3 \n",
        "\n",
        "if __name__==\"__main__\":\n",
        "  n1=Node(\"a\")\n",
        "  n2=Node(\"b\")\n",
        "  n3=Node(\"c\")\n",
        "  n4=Node(\"d\")\n",
        "  n5=Node(\"e\")\n",
        "  n6=Node(\"f\")\n",
        "  n7=Node(\"g\")\n",
        "  # depHash=dict(n6=[n3,n1,n2],n3=[n1],n2=[n1],n1=[n5],n4=[n7])\n",
        "  gr=Graph()\n",
        "  gr.DependencyTreeBuilder(n6,[n3,n1,n2])\n",
        "  gr.DependencyTreeBuilder(n3,[n1])\n",
        "  gr.DependencyTreeBuilder(n2,[n1])\n",
        "  gr.DependencyTreeBuilder(n1,[n5])\n",
        "  gr.DependencyTreeBuilder(n4,[n7])\n",
        "  order=gr.ProcessOrder()\n",
        "  #gr.printAllProjects()\n",
        "  print(\"****************************************\")\n",
        "  print(\"the final order is\")\n",
        "  for val in reversed(order.OperationList):\n",
        "      print(val.Name) \n",
        "  print(\"****************************************\")\n",
        "\n",
        "#Though the build order might appear different from the previous solution, logically the answer is right "
      ],
      "execution_count": null,
      "outputs": [
        {
          "output_type": "stream",
          "text": [
            "****************************************\n",
            "the final order is\n",
            "d\n",
            "g\n",
            "f\n",
            "b\n",
            "c\n",
            "a\n",
            "e\n",
            "****************************************\n"
          ],
          "name": "stdout"
        }
      ]
    },
    {
      "cell_type": "markdown",
      "metadata": {
        "id": "C_YOpHrFJ0ji"
      },
      "source": [
        "Question 4.8:\n",
        "\n",
        "Find first common ancestors of 2 given nodes of a BINARY TREE (Not Binary search tree)"
      ]
    },
    {
      "cell_type": "code",
      "metadata": {
        "id": "eULtj-dvKEmy",
        "outputId": "c12c776a-3f4f-46ab-998e-9c9d767a3e8d",
        "colab": {
          "base_uri": "https://localhost:8080/",
          "height": 34
        }
      },
      "source": [
        " class Node:\n",
        "    def __init__(self,value):\n",
        "        self.value= value\n",
        "        self.left = None\n",
        "        self.right = None\n",
        "        self.parent = None\n",
        "\n",
        "class Tree:\n",
        "    def link(self,node,leftv,rightv):\n",
        "        node.left= leftv\n",
        "        node.right= rightv\n",
        "        if leftv is not None:\n",
        "          leftv.parent= node\n",
        "        if rightv is not None:\n",
        "          rightv.parent= node\n",
        "    #---------------------------------------------------------------------------\n",
        "    # ALGO 1 TO FIND ANCESTOR -using parent property of the Node\n",
        "    #---------------------------------------------------------------------------\n",
        "    def CommonAncestorFinder(self,node1,node2):\n",
        "      delta= self.DepthFinder(node1)-self.DepthFinder(node2)\n",
        "      shallowNode = node1\n",
        "      deepNode = node2\n",
        "      if delta>0:\n",
        "        node1= self.GoUp(node1,abs(delta))\n",
        "      elif delta<0:\n",
        "        node2= self.GoUp(node2,abs(delta))\n",
        "      while (node1 is not node2) and (node1 is not None) and (node2 is not None):\n",
        "        node1= node1.parent\n",
        "        node2= node2.parent\n",
        "      if node1 == None or node2 == None:\n",
        "        return None\n",
        "      else:\n",
        "        return node1.value\n",
        "    def GoUp(self,node,delta):\n",
        "      processNode= node\n",
        "      while delta is not 0:\n",
        "        processNode = processNode.parent\n",
        "        delta-=1\n",
        "      return processNode\n",
        "\n",
        "    def DepthFinder(self,node):\n",
        "      counter=0\n",
        "      while node is not None:\n",
        "        node = node.parent\n",
        "        counter+=1\n",
        "      return counter\n",
        "    #---------------------------------------------------------------------------\n",
        "    # ALGO 2 TO FIND ANCESTOR-using parent property of the Node\n",
        "    #---------------------------------------------------------------------------\n",
        "    def CommonAncestorFinder2(self,node1,node2):\n",
        "      if (self.covers(node1,node2)):\n",
        "        return node1\n",
        "      elif (self.covers(node2,node1)):\n",
        "        return node2\n",
        "      sibling=self.GetSibling(node1)\n",
        "      parent= node1.parent\n",
        "      while(self.covers(sibling,node2) is False):\n",
        "        sibling=self.GetSibling(parent)\n",
        "        parent=parent.parent\n",
        "      return parent\n",
        "\n",
        "    def covers(self,rootNode,searchNode):\n",
        "      if rootNode is None:\n",
        "        return False\n",
        "      if rootNode is searchNode:\n",
        "        return True\n",
        "      return self.covers(rootNode.left,searchNode) or self.covers(rootNode.right,searchNode)\n",
        "      \n",
        "    def GetSibling(self,node):\n",
        "      if node.parent.left is node:\n",
        "        return node.parent.right\n",
        "      else:\n",
        "        return node.parent.left\n",
        "\n",
        "    #---------------------------------------------------------------------------\n",
        "    # ALGO 3 TO FIND ANCESTOR-WITHOUT using parent property of the Node\n",
        "    #---------------------------------------------------------------------------\n",
        "    def CommonAncestorFinder3(self,root,node1,node2):\n",
        "      if (self.covers(node1,node2)):\n",
        "        return node1\n",
        "      elif (self.covers(node2,node1)):\n",
        "        return node2\n",
        "      node1IsOnLeft=self.covers(root.left,node1)\n",
        "      node2IsOnLeft=self.covers(root.left,node2)\n",
        "      if node1IsOnLeft and node2IsOnLeft:\n",
        "        return self.CommonAncestorFinder3(root.left,node1,node2)\n",
        "      elif node1IsOnLeft==False and node2IsOnLeft==False:\n",
        "        return self.CommonAncestorFinder3(root.right,node1,node2)\n",
        "      else:\n",
        "        return root\n",
        "       \n",
        "    #---------------------------------------------------------------------------\n",
        "    # ALGO 4 TO FIND ANCESTOR-WITHOUT using parent property of the Node - Most optimized\n",
        "    #---------------------------------------------------------------------------\n",
        "    def CommonAncestorFinder4(self,root,node1,node2):\n",
        "      if root==node1 or root==node2 or root==None:\n",
        "        return root\n",
        "      x=self.CommonAncestorFinder4(root.left,node1,node2)\n",
        "      if (x!=None and x!=node1 and x!=node2):\n",
        "        return x\n",
        "\n",
        "      y=self.CommonAncestorFinder4(root.right,node1,node2)\n",
        "      if (y!=None and y!=node1 and y!=node2):\n",
        "        return y\n",
        "      \n",
        "      if x!=None and y!=None:\n",
        "        return root\n",
        "      elif node1==root or node2==root:\n",
        "        return root\n",
        "      elif x==None:\n",
        "        return y\n",
        "      elif y==None:\n",
        "        return x\n",
        "      \n",
        "\n",
        "\n",
        "\n",
        "n1= Node(1)\n",
        "n2= Node(2)\n",
        "n3= Node(3)\n",
        "n4= Node(4)\n",
        "n5= Node(5)\n",
        "n6= Node(6)\n",
        "n7= Node(7)\n",
        "n8= Node(8)\n",
        "n9= Node(9)\n",
        "n10= Node(10)\n",
        "tr= Tree()\n",
        "tr.link(n1,n2,n3)\n",
        "tr.link(n2,n4,n5)\n",
        "tr.link(n3,n6,n7)\n",
        "tr.link(n7,n8,n9)\n",
        "tr.link(n9,None,n10)\n",
        "CommonAncestor=tr.CommonAncestorFinder4(n1,n6,n10)\n",
        "print(CommonAncestor.value)"
      ],
      "execution_count": null,
      "outputs": [
        {
          "output_type": "stream",
          "text": [
            "3\n"
          ],
          "name": "stdout"
        }
      ]
    },
    {
      "cell_type": "markdown",
      "metadata": {
        "id": "8hScW3hjL8L4"
      },
      "source": [
        "# Question 4.9: **[TODO]** \n",
        "\n",
        "BST sequence: Given a binary tree, print all the possible arrays that could have led to it."
      ]
    },
    {
      "cell_type": "code",
      "metadata": {
        "id": "GCrWvg1ra47b",
        "outputId": "00c6f97e-8543-4d00-d9ac-b9ca7539b675",
        "colab": {
          "base_uri": "https://localhost:8080/",
          "height": 394
        }
      },
      "source": [
        " class Node:\n",
        "    def __init__(self,value):\n",
        "        self.value= value\n",
        "        self.left = None\n",
        "        self.right = None\n",
        "\n",
        "class Tree:\n",
        "    def link(self,node,leftv,rightv):\n",
        "        node.left= leftv\n",
        "        node.right= rightv\n",
        "\n",
        "class Operations:\n",
        "  def allSequences(self,headNode):\n",
        "    results=[]\n",
        "    if headNode is None:\n",
        "      results.append([])\n",
        "      return results\n",
        "\n",
        "    prefix=[]\n",
        "    prefix.append(headNode.value)\n",
        "    leftSeq= self.allSequences(headNode.left)\n",
        "    rightSeq= self.allSequences(headNode.right)\n",
        "    print(leftSeq)\n",
        "    for x in leftSeq:\n",
        "      for y in rightSeq:\n",
        "        weaved=[]\n",
        "        self.weave(x,y,weaved,prefix)\n",
        "        print(weaved)\n",
        "        results.append(weaved)\n",
        "    return results\n",
        "\n",
        "  def weave(self,first,second,results,prefix):\n",
        "    if len(first)==0 or len(second)==0:\n",
        "      result=prefix\n",
        "      result.extend(first)\n",
        "      result.extend(second)\n",
        "      results.append(result)\n",
        "      return\n",
        "\n",
        "    headFirst= first[0]\n",
        "    first.remove(headFirst)\n",
        "    prefix.append(headFirst)\n",
        "    self.weave(first,second,results,prefix)\n",
        "    prefix.remove(prefix[-1])\n",
        "    first.insert(0,headFirst)\n",
        "\n",
        "    headSecond= second[0]\n",
        "    second.remove(headSecond)\n",
        "    prefix.append(headSecond)\n",
        "    self.weave(first,second,results,prefix)\n",
        "    prefix.remove(prefix[-1])\n",
        "    second.insert(0,headSecond)\n",
        "\n",
        "\n",
        "n50= Node(50)\n",
        "n20= Node(20)\n",
        "n60= Node(60)\n",
        "n10= Node(10)\n",
        "n25= Node(25)\n",
        "n70= Node(70)\n",
        "n5= Node(5)\n",
        "n15= Node(15)\n",
        "n65= Node(65)\n",
        "n80= Node(80)\n",
        "tr= Tree()\n",
        "tr.link(n50,n20,n60)\n",
        "tr.link(n20,n10,n25)\n",
        "tr.link(n10,n5,n15)\n",
        "tr.link(n60,None,n70)\n",
        "tr.link(n70,n65,n80)\n",
        "ops=Operations()\n",
        "\n",
        "res=ops.allSequences(n50)\n",
        "print(res)"
      ],
      "execution_count": null,
      "outputs": [
        {
          "output_type": "stream",
          "text": [
            "[[]]\n",
            "[[5]]\n",
            "[[]]\n",
            "[[15]]\n",
            "[[[5]]]\n",
            "[[10, [15], [5]], [10, [15], [5]]]\n",
            "[[]]\n",
            "[[25]]\n",
            "[[[10, [15], [5]], [10, [15], [5]]]]\n",
            "[[20, [25], [25], [10, [15], [5]], [10, [15], [5]]], [20, [25], [25], [10, [15], [5]], [10, [15], [5]]], [20, [25], [25], [10, [15], [5]], [10, [15], [5]]]]\n",
            "[[]]\n",
            "[[65]]\n",
            "[[]]\n",
            "[[80]]\n",
            "[[[65]]]\n",
            "[[70, [80], [65]], [70, [80], [65]]]\n",
            "[[]]\n",
            "[[60, [70, [80], [65]], [70, [80], [65]]]]\n",
            "[[[20, [25], [25], [10, [15], [5]], [10, [15], [5]]], [20, [25], [25], [10, [15], [5]], [10, [15], [5]]], [20, [25], [25], [10, [15], [5]], [10, [15], [5]]]]]\n",
            "[[50, [60, [70, [80], [65]], [70, [80], [65]]], [60, [70, [80], [65]], [70, [80], [65]]], [20, [25], [25], [10, [15], [5]], [10, [15], [5]]], [60, [70, [80], [65]], [70, [80], [65]]], [20, [25], [25], [10, [15], [5]], [10, [15], [5]]], [20, [25], [25], [10, [15], [5]], [10, [15], [5]]], [20, [25], [25], [10, [15], [5]], [10, [15], [5]]]], [50, [60, [70, [80], [65]], [70, [80], [65]]], [60, [70, [80], [65]], [70, [80], [65]]], [20, [25], [25], [10, [15], [5]], [10, [15], [5]]], [60, [70, [80], [65]], [70, [80], [65]]], [20, [25], [25], [10, [15], [5]], [10, [15], [5]]], [20, [25], [25], [10, [15], [5]], [10, [15], [5]]], [20, [25], [25], [10, [15], [5]], [10, [15], [5]]]], [50, [60, [70, [80], [65]], [70, [80], [65]]], [60, [70, [80], [65]], [70, [80], [65]]], [20, [25], [25], [10, [15], [5]], [10, [15], [5]]], [60, [70, [80], [65]], [70, [80], [65]]], [20, [25], [25], [10, [15], [5]], [10, [15], [5]]], [20, [25], [25], [10, [15], [5]], [10, [15], [5]]], [20, [25], [25], [10, [15], [5]], [10, [15], [5]]]], [50, [60, [70, [80], [65]], [70, [80], [65]]], [60, [70, [80], [65]], [70, [80], [65]]], [20, [25], [25], [10, [15], [5]], [10, [15], [5]]], [60, [70, [80], [65]], [70, [80], [65]]], [20, [25], [25], [10, [15], [5]], [10, [15], [5]]], [20, [25], [25], [10, [15], [5]], [10, [15], [5]]], [20, [25], [25], [10, [15], [5]], [10, [15], [5]]]]]\n",
            "[[[50, [60, [70, [80], [65]], [70, [80], [65]]], [60, [70, [80], [65]], [70, [80], [65]]], [20, [25], [25], [10, [15], [5]], [10, [15], [5]]], [60, [70, [80], [65]], [70, [80], [65]]], [20, [25], [25], [10, [15], [5]], [10, [15], [5]]], [20, [25], [25], [10, [15], [5]], [10, [15], [5]]], [20, [25], [25], [10, [15], [5]], [10, [15], [5]]]], [50, [60, [70, [80], [65]], [70, [80], [65]]], [60, [70, [80], [65]], [70, [80], [65]]], [20, [25], [25], [10, [15], [5]], [10, [15], [5]]], [60, [70, [80], [65]], [70, [80], [65]]], [20, [25], [25], [10, [15], [5]], [10, [15], [5]]], [20, [25], [25], [10, [15], [5]], [10, [15], [5]]], [20, [25], [25], [10, [15], [5]], [10, [15], [5]]]], [50, [60, [70, [80], [65]], [70, [80], [65]]], [60, [70, [80], [65]], [70, [80], [65]]], [20, [25], [25], [10, [15], [5]], [10, [15], [5]]], [60, [70, [80], [65]], [70, [80], [65]]], [20, [25], [25], [10, [15], [5]], [10, [15], [5]]], [20, [25], [25], [10, [15], [5]], [10, [15], [5]]], [20, [25], [25], [10, [15], [5]], [10, [15], [5]]]], [50, [60, [70, [80], [65]], [70, [80], [65]]], [60, [70, [80], [65]], [70, [80], [65]]], [20, [25], [25], [10, [15], [5]], [10, [15], [5]]], [60, [70, [80], [65]], [70, [80], [65]]], [20, [25], [25], [10, [15], [5]], [10, [15], [5]]], [20, [25], [25], [10, [15], [5]], [10, [15], [5]]], [20, [25], [25], [10, [15], [5]], [10, [15], [5]]]]]]\n"
          ],
          "name": "stdout"
        }
      ]
    },
    {
      "cell_type": "markdown",
      "metadata": {
        "id": "S-VcDORo1_fc"
      },
      "source": [
        "# [todo]: 4.9,4.10,4.11,4.12"
      ]
    }
  ]
}