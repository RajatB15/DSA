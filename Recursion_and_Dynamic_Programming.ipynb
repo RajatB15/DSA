{
  "nbformat": 4,
  "nbformat_minor": 0,
  "metadata": {
    "colab": {
      "name": "Recursion and Dynamic Programming.ipynb",
      "provenance": [],
      "collapsed_sections": [],
      "authorship_tag": "ABX9TyMe923LCz+O2bebn7x1pxrc",
      "include_colab_link": true
    },
    "kernelspec": {
      "name": "python3",
      "display_name": "Python 3"
    }
  },
  "cells": [
    {
      "cell_type": "markdown",
      "metadata": {
        "id": "view-in-github",
        "colab_type": "text"
      },
      "source": [
        "<a href=\"https://colab.research.google.com/github/RajatB15/DSA/blob/master/Recursion_and_Dynamic_Programming.ipynb\" target=\"_parent\"><img src=\"https://colab.research.google.com/assets/colab-badge.svg\" alt=\"Open In Colab\"/></a>"
      ]
    },
    {
      "cell_type": "markdown",
      "metadata": {
        "id": "8oCK4x152Xks"
      },
      "source": [
        "**Using Fibonacci example to understand why dynamic programming is required**"
      ]
    },
    {
      "cell_type": "markdown",
      "metadata": {
        "id": "oRwiR6Bv2ghE"
      },
      "source": [
        "Method 1: Just recursion -> Time complexity = O(2^n)\n"
      ]
    },
    {
      "cell_type": "code",
      "metadata": {
        "id": "yx7afpB72LnI"
      },
      "source": [
        "def fibb(i):\n",
        "  if i==0:\n",
        "    return 0\n",
        "  elif i==1:\n",
        "    return 1\n",
        "  else:\n",
        "    return fibb(i-1)+fibb(i-2)\n",
        "\n",
        "result=fibb(10)\n",
        "print(result)"
      ],
      "execution_count": null,
      "outputs": []
    },
    {
      "cell_type": "markdown",
      "metadata": {
        "id": "d9AKlub73M3a"
      },
      "source": [
        "Method 2: Recursion with memorization (Top down dynamic programming)-> Time complexity =O(n)\n"
      ]
    },
    {
      "cell_type": "code",
      "metadata": {
        "id": "toWaEOhu3Uz5",
        "outputId": "b41102f8-1eec-4275-cdf2-575428c008fd",
        "colab": {
          "base_uri": "https://localhost:8080/",
          "height": 34
        }
      },
      "source": [
        "def fibb(i,memorizedList):\n",
        "  if i==0:\n",
        "    return 0\n",
        "  elif i==1:\n",
        "    return 1\n",
        "  elif len(memorizedList)>i and memorizedList[i]!=None:\n",
        "    return memorizedList[i]\n",
        "  else:\n",
        "    memorizedList[i]= fibb(i-1,memorizedList)+fibb(i-2,memorizedList)\n",
        "  return memorizedList[i]\n",
        "memorizedList=[None]*100\n",
        "result=fibb(10,memorizedList)\n",
        "print(result)"
      ],
      "execution_count": 13,
      "outputs": [
        {
          "output_type": "stream",
          "text": [
            "55\n"
          ],
          "name": "stdout"
        }
      ]
    },
    {
      "cell_type": "markdown",
      "metadata": {
        "id": "6Ef65ozm4hMC"
      },
      "source": [
        "Method 3: Bottom up dynamic programming (Now this turns into an iterative solution, which means better space complexity)"
      ]
    },
    {
      "cell_type": "code",
      "metadata": {
        "id": "AsZFYAEB4gTN",
        "outputId": "42fad117-e4bd-42af-c0bd-a5bc372999ed",
        "colab": {
          "base_uri": "https://localhost:8080/",
          "height": 34
        }
      },
      "source": [
        "def fibb(i):\n",
        "  if i==0:\n",
        "    return 0\n",
        "  elif i==1:\n",
        "    return 1\n",
        "  memorizedList=[None]*100\n",
        "  memorizedList[0]=0\n",
        "  memorizedList[1]=1\n",
        "  for x in range(2,i+1):\n",
        "    memorizedList[x]=memorizedList[x-1]+memorizedList[x-2]\n",
        "  return memorizedList[i]\n",
        "\n",
        "result=fibb(10)\n",
        "print(result)"
      ],
      "execution_count": 16,
      "outputs": [
        {
          "output_type": "stream",
          "text": [
            "55\n"
          ],
          "name": "stdout"
        }
      ]
    },
    {
      "cell_type": "markdown",
      "metadata": {
        "id": "pp3T3Gii6uDP"
      },
      "source": [
        "Method 4: Optimizing method 3 ( This is still an iterative solution. We only need the last 2 values to compute the next value, so no need of list).\n",
        "\n"
      ]
    },
    {
      "cell_type": "code",
      "metadata": {
        "id": "_ULKY0tW6zVU",
        "outputId": "db166b8f-381c-4b72-f09f-833bf89beda7",
        "colab": {
          "base_uri": "https://localhost:8080/",
          "height": 34
        }
      },
      "source": [
        "def fibb(i):\n",
        "  if i==0:\n",
        "    return 0\n",
        "  elif i==1:\n",
        "    return 1\n",
        "  memorizedList0=0\n",
        "  memorizedList1=1\n",
        "  for x in range(2,i+1):\n",
        "    temp=memorizedList1\n",
        "    memorizedList1=memorizedList1+memorizedList0\n",
        "    memorizedList0=temp\n",
        "  return memorizedList1\n",
        "\n",
        "result=fibb(10)\n",
        "print(result)"
      ],
      "execution_count": 19,
      "outputs": [
        {
          "output_type": "stream",
          "text": [
            "55\n"
          ],
          "name": "stdout"
        }
      ]
    },
    {
      "cell_type": "markdown",
      "metadata": {
        "id": "dHUZs2yG9amN"
      },
      "source": [
        "# **CTCI QUESTIONS**"
      ]
    },
    {
      "cell_type": "markdown",
      "metadata": {
        "id": "8ARKplg29fJT"
      },
      "source": [
        "Question 1:\n",
        "\n",
        "A child is running up a staircase with n steps and can hop either 1 step, 2 steps or 3 steps at a time. In how many possible ways can the child climb the stairs\n"
      ]
    },
    {
      "cell_type": "markdown",
      "metadata": {
        "id": "ofoQh_779xMr"
      },
      "source": [
        "Solution 1: Brute force - Time complexity O(3^n)\n",
        "\n",
        "Child climbs 0 steps : return 1 \n",
        "Child climbs less than 0 steps : return 0\n",
        "Child climbs n steps:"
      ]
    },
    {
      "cell_type": "code",
      "metadata": {
        "id": "bumjyCth91Ts",
        "outputId": "61ed2633-92b1-4c7b-ee4f-1aa5f573312b",
        "colab": {
          "base_uri": "https://localhost:8080/",
          "height": 34
        }
      },
      "source": [
        "def CountSteps(n):\n",
        "  if n<0:\n",
        "    return 0\n",
        "  elif n==0:\n",
        "    return 1\n",
        "  else:\n",
        "    return CountSteps(n-1)+CountSteps(n-2)+CountSteps(n-3)\n",
        "\n",
        "print(CountSteps(5))"
      ],
      "execution_count": 7,
      "outputs": [
        {
          "output_type": "stream",
          "text": [
            "13\n"
          ],
          "name": "stdout"
        }
      ]
    },
    {
      "cell_type": "markdown",
      "metadata": {
        "id": "pZ7ArLD6AGiz"
      },
      "source": [
        "Solution 2: Memorization - Time complexity O(n)"
      ]
    },
    {
      "cell_type": "code",
      "metadata": {
        "id": "T0PgBcVg_9M1",
        "outputId": "e49ace35-c93c-4468-ee88-d999d7a0693b",
        "colab": {
          "base_uri": "https://localhost:8080/",
          "height": 34
        }
      },
      "source": [
        "def CountSteps(n,memo=[None]*100):\n",
        "  if n<0:\n",
        "    return 0\n",
        "  elif n==0:\n",
        "    return 1\n",
        "  elif n>=0 and memo[n]!=None:\n",
        "    return memo[n]\n",
        "  else:\n",
        "    res=CountSteps(n-1,memo)+CountSteps(n-2,memo)+CountSteps(n-3,memo)\n",
        "    if n<0:\n",
        "      return res\n",
        "    else:\n",
        "      memo[n]= res\n",
        "      return res\n",
        "\n",
        "print(CountSteps(5))"
      ],
      "execution_count": 8,
      "outputs": [
        {
          "output_type": "stream",
          "text": [
            "13\n"
          ],
          "name": "stdout"
        }
      ]
    }
  ]
}