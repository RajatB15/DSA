{
  "nbformat": 4,
  "nbformat_minor": 0,
  "metadata": {
    "colab": {
      "name": "Algorithms and data structures ",
      "provenance": [],
      "collapsed_sections": [],
      "authorship_tag": "ABX9TyNijEYHc1dSKOx4toMyRWLh",
      "include_colab_link": true
    },
    "kernelspec": {
      "name": "python3",
      "display_name": "Python 3"
    }
  },
  "cells": [
    {
      "cell_type": "markdown",
      "metadata": {
        "id": "view-in-github",
        "colab_type": "text"
      },
      "source": [
        "<a href=\"https://colab.research.google.com/github/RajatB15/DSA/blob/master/Algorithms_and_data_structures.ipynb\" target=\"_parent\"><img src=\"https://colab.research.google.com/assets/colab-badge.svg\" alt=\"Open In Colab\"/></a>"
      ]
    },
    {
      "cell_type": "markdown",
      "metadata": {
        "id": "wGk5r_e1ykoH",
        "colab_type": "text"
      },
      "source": [
        "**Dynamic array implementation** [geeks for geeks link](https://www.geeksforgeeks.org/implementation-of-dynamic-array-in-python/)"
      ]
    },
    {
      "cell_type": "markdown",
      "metadata": {
        "id": "igJgdapSz3Js",
        "colab_type": "text"
      },
      "source": [
        "We can’t actually grow the array, its capacity is fixed. If an element is appended to a list at a time, when the underlying array is full, we need to perform following steps.\n",
        "\n",
        "1. Allocate a new array B with larger capacity (A commonly used rule for the new array is to have twice the capacity of the existing array )\n",
        "2. Set B[i]=A[i], for i=0 to n-1 where n \n",
        "denotes the current no of items.\n",
        "3. Set A=B that is, we hence forth use B as the array of supporting list.\n",
        "4. Insert new element in the new array.\n",
        "\n",
        "\n"
      ]
    },
    {
      "cell_type": "code",
      "metadata": {
        "id": "gHheNbi71Bhl",
        "colab_type": "code",
        "colab": {}
      },
      "source": [
        "import ctypes #gives c data types in python\n",
        "\n",
        "class DynamicArray(object):\n",
        "  def __init__(self):\n",
        "    self.actualelements=0 #count of actual number of elements present in an array\n",
        "    self.capacityofarray=1 #total capacity of array, default =1\n",
        "    self.myarray=self.make_array(self.capacityofarray)\n",
        "\n",
        "  def __len__(self):\n",
        "    #returns number of elements sorted in array\n",
        "    return self.actualelements\n",
        "  \n",
        "  def __getitem__(self,k):\n",
        "    #returns kth element\n",
        "    if not 0<=k < self.actualelements:\n",
        "      return IndexError(\"Its out of bounds, You idiot\")\n",
        "    return self.myarray[k]\n",
        "\n",
        "  def printarray(self):\n",
        "    if not len(self.myarray) == 0:\n",
        "      for element in range(self.actualelements):\n",
        "        print(self.myarray[element])\n",
        "\n",
        "  def append(self,ele):\n",
        "    # add element to array + resize if necessary\n",
        "    self._checkifresizenecessary()\n",
        "    self.myarray[self.actualelements]=ele \n",
        "    self.actualelements+=1\n",
        "\n",
        "  def _checkifresizenecessary(self):\n",
        "    if(self.actualelements==self.capacityofarray):\n",
        "      self._resize(2*self.capacityofarray)\n",
        "\n",
        "  def _resize(self,resizeto):\n",
        "    biggerarray=self.make_array(resizeto)\n",
        "    for elementcount in range(self.actualelements):\n",
        "      biggerarray[elementcount]=self.myarray[elementcount]\n",
        "    self.myarray=biggerarray\n",
        "    self.capacityofarray=resizeto\n",
        "    #no need to set actualelements because it hasn't changed\n",
        "\n",
        "  def addelement(self,position,ele):\n",
        "    if not 0<=position<self.actualelements:\n",
        "      return IndexError(\"its out of bounds, you idiot\")\n",
        "    self._checkifresizenecessary()\n",
        "    for elementcount in range(self.actualelements,position,-1):\n",
        "      self.myarray[elementcount]=self.myarray[elementcount-1]\n",
        "    self.myarray[position]=ele\n",
        "    self.actualelements+=1\n",
        "\n",
        "  def deleteelementbasedonposition(self,position):\n",
        "    if not 0<=position<self.actualelements:\n",
        "      return IndexError(\"its out of bounds, you idiot\")\n",
        "    for elementcount in range(position+1,self.actualelements):\n",
        "      self.myarray[elementcount-1]=self.myarray[elementcount]\n",
        "    self.actualelements-=1\n",
        "\n",
        "  def deleteelementbasedonelement(self,elementunderinspection):\n",
        "    counter=0\n",
        "    while counter<self.actualelements:\n",
        "      if self.myarray[counter]==elementunderinspection:\n",
        "        self.deleteelementbasedonposition(counter)\n",
        "      else:\n",
        "        counter+=1\n",
        "\n",
        "  def make_array(self,cap):\n",
        "    return (cap*ctypes.py_object)()\n"
      ],
      "execution_count": 0,
      "outputs": []
    },
    {
      "cell_type": "code",
      "metadata": {
        "id": "ITJizl5K8B1m",
        "colab_type": "code",
        "outputId": "42d466c0-ce44-4e42-f4f4-40baaebe39aa",
        "colab": {
          "base_uri": "https://localhost:8080/",
          "height": 374
        }
      },
      "source": [
        "arr=DynamicArray()\n",
        "arr.append(1)\n",
        "arr.append(5)\n",
        "arr.append(6)\n",
        "print(\"ans1\")\n",
        "arr.printarray()\n",
        "arr.addelement(2,0)\n",
        "print(\"ans2\")\n",
        "arr.printarray()\n",
        "arr.addelement(2,9)\n",
        "arr.addelement(2,5)\n",
        "#arr.addelement(2,5)\n",
        "print(\"ans3\")\n",
        "arr.printarray()\n",
        "arr.deleteelementbasedonelement(5)\n",
        "print(\"ans4\")\n",
        "arr.printarray()"
      ],
      "execution_count": 0,
      "outputs": [
        {
          "output_type": "stream",
          "text": [
            "ans1\n",
            "1\n",
            "5\n",
            "6\n",
            "ans2\n",
            "1\n",
            "5\n",
            "0\n",
            "6\n",
            "ans3\n",
            "1\n",
            "5\n",
            "5\n",
            "9\n",
            "0\n",
            "6\n",
            "ans4\n",
            "1\n",
            "9\n",
            "0\n",
            "6\n"
          ],
          "name": "stdout"
        }
      ]
    },
    {
      "cell_type": "markdown",
      "metadata": {
        "id": "QjT-uuACZ65R",
        "colab_type": "text"
      },
      "source": [
        "# Linked **list**"
      ]
    },
    {
      "cell_type": "code",
      "metadata": {
        "id": "zsPmRwq8n8MZ",
        "colab_type": "code",
        "outputId": "c4e33ce3-3d03-4c31-a2e4-ec3ca2416778",
        "colab": {
          "base_uri": "https://localhost:8080/",
          "height": 119
        }
      },
      "source": [
        "class Node:\n",
        "  def __init__(self,data):\n",
        "    self.data=  data\n",
        "    self.next= None\n",
        "\n",
        "class LinkedList:\n",
        "  def __init__(self):\n",
        "    self.head= None\n",
        "\n",
        "class LinkedListHelper:\n",
        "  def listLenght(self,myLinkedListHead):\n",
        "    if myLinkedListHead==None:\n",
        "      return 0\n",
        "    myLinkedListLength= 0\n",
        "    currentNode= myLinkedListHead\n",
        "    while True:\n",
        "      myLinkedListLength+= 1\n",
        "      if currentNode.next == None:\n",
        "        break\n",
        "      currentNode= currentNode.next\n",
        "    return myLinkedListLength\n",
        "\n",
        "  def allData(self,myLinkedListHead):\n",
        "    myLinkedListData= []\n",
        "    if myLinkedListHead==None:\n",
        "      return myLinkedListData\n",
        "    currentNode= myLinkedListHead\n",
        "    while True:\n",
        "      myLinkedListData.append(currentNode.data)\n",
        "      if currentNode.next == None:\n",
        "        break\n",
        "      currentNode = currentNode.next\n",
        "    return myLinkedListData\n",
        "\n",
        "  def printAllData(self,myLinkedListHead):\n",
        "    if myLinkedListHead==None:\n",
        "      print(\"No elements exists in linked list\")\n",
        "    currentNode = myLinkedListHead\n",
        "    while True:\n",
        "      print(currentNode.data)\n",
        "      if currentNode.next == None:\n",
        "        break\n",
        "      currentNode = currentNode.next\n",
        "\n",
        "class LinkedListOperationsHelper:\n",
        "\n",
        "  def __init__(self,head):\n",
        "    self.firstHead = head\n",
        "\n",
        "  def addToLinkedList(self,head,node,position):\n",
        "    currentNode= head\n",
        "    nodeCounter = 0 \n",
        "    while True:\n",
        "       currentNode= currentNode.next\n",
        "       nodeCounter+=1\n",
        "       if nodeCounter==position:\n",
        "         print(\"here\")\n",
        "         node.next = currentNode.next\n",
        "         currentNode.next = node\n",
        "         break    \n",
        "\n",
        "\n",
        "if __name__=='__main__':\n",
        "  myLinkedList = LinkedList()\n",
        "  firstNode = Node(1)\n",
        "  secondNode = Node(2)\n",
        "  thirdNode = Node(3)\n",
        "  forthNode = Node(4)\n",
        "  fifthNode = Node(5)\n",
        "\n",
        "  newNode = Node(5.56)\n",
        "  myLinkedList.head= firstNode\n",
        "  myLinkedList.head.next = secondNode\n",
        "  secondNode.next = thirdNode\n",
        "  thirdNode.next = forthNode\n",
        "  forthNode.next = fifthNode\n",
        "\n",
        "\n",
        "  myHelper= LinkedListHelper()\n",
        "  '''\n",
        "  print(myHelper.listLenght(myLinkedList.head))\n",
        "  print(\"---------------\")\n",
        "  myHelper.printAllData(myLinkedList.head)\n",
        "  print(\"---------------\")\n",
        "  myAllData=myHelper.allData(myLinkedList.head)\n",
        "  for t in range(len(myAllData)):\n",
        "    print(myAllData[t])\n",
        "'''\n",
        "  myOperation = LinkedListOperationsHelper(myLinkedList.head)\n",
        "  myOperation.addToLinkedList(first,newNode,2)\n",
        "  myHelper.printAllData(myLinkedList.head)\n",
        "\n",
        "\n",
        "\n"
      ],
      "execution_count": 0,
      "outputs": [
        {
          "output_type": "stream",
          "text": [
            "here\n",
            "1\n",
            "2\n",
            "3\n",
            "4\n",
            "5\n"
          ],
          "name": "stdout"
        }
      ]
    }
  ]
}