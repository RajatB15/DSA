{
  "nbformat": 4,
  "nbformat_minor": 0,
  "metadata": {
    "colab": {
      "name": "LinkedList.ipynb",
      "provenance": [],
      "authorship_tag": "ABX9TyO1hTOX+dzqJfZQvRCsFeq2",
      "include_colab_link": true
    },
    "kernelspec": {
      "name": "python3",
      "display_name": "Python 3"
    }
  },
  "cells": [
    {
      "cell_type": "markdown",
      "metadata": {
        "id": "view-in-github",
        "colab_type": "text"
      },
      "source": [
        "<a href=\"https://colab.research.google.com/github/RajatB15/DSA/blob/master/LinkedList.ipynb\" target=\"_parent\"><img src=\"https://colab.research.google.com/assets/colab-badge.svg\" alt=\"Open In Colab\"/></a>"
      ]
    },
    {
      "cell_type": "markdown",
      "metadata": {
        "id": "QjT-uuACZ65R",
        "colab_type": "text"
      },
      "source": [
        "# Linked **list**"
      ]
    },
    {
      "cell_type": "markdown",
      "metadata": {
        "id": "LPZoj1yloWE9",
        "colab_type": "text"
      },
      "source": [
        "Core Linked list data structure"
      ]
    },
    {
      "cell_type": "code",
      "metadata": {
        "id": "zsPmRwq8n8MZ",
        "colab_type": "code",
        "colab": {}
      },
      "source": [
        "class Node:\n",
        "  def __init__(self,data):\n",
        "    self.data=  data\n",
        "    self.next= None\n",
        "\n",
        "class LinkedList:\n",
        "  def __init__(self):\n",
        "    self.head= None"
      ],
      "execution_count": 0,
      "outputs": []
    },
    {
      "cell_type": "markdown",
      "metadata": {
        "id": "VkcoWaRDouIL",
        "colab_type": "text"
      },
      "source": [
        "Linked list core helper functions"
      ]
    },
    {
      "cell_type": "code",
      "metadata": {
        "id": "YWsMsWw3mU8X",
        "colab_type": "code",
        "colab": {}
      },
      "source": [
        "class LinkedListOperationsHelper:\n",
        "\n",
        "  def __init__(self,entireList,entireListHead):\n",
        "    self.entireList = entireList\n",
        "    self.listHead = entireListHead\n",
        "\n",
        "#adds at the end of the linked list \n",
        "  def push(self,node):\n",
        "    currentNode= self.listHead\n",
        "    while currentNode.next != None:\n",
        "      currentNode= currentNode.next\n",
        "    currentNode.next= node\n",
        "\n",
        "  def pop(self):\n",
        "    currentNode = self.listHead\n",
        "    while currentNode.next.next != None:\n",
        "      currentNode= currentNode.next\n",
        "    currentNode.next= None\n",
        "\n",
        "#adds a node at a particular position\n",
        "  def addToLinkedList(self,node,position):\n",
        "    currentNode= self.listHead\n",
        "    nodeCounter = 0 \n",
        "    while True:\n",
        "       currentNode= currentNode.next\n",
        "       nodeCounter+=1\n",
        "       if nodeCounter==position:\n",
        "         node.next = currentNode.next\n",
        "         currentNode.next = node\n",
        "         break    \n",
        "\n",
        "  def deleteFromLinkedList(self,position):\n",
        "    previousNode = self.listHead\n",
        "    currentNode= self.listHead.next\n",
        "    totalLength = LinkedListHelper.listLenght(self,self.listHead)\n",
        "    if position == 0: #if zeroth node has to be removed \n",
        "      self.entireList.head = self.listHead.next\n",
        "      return\n",
        "    for node in range(1,totalLength):\n",
        "      if node == totalLength-1: #if last node has to be removed \n",
        "          previousNode.next= None\n",
        "          currentNode= None\n",
        "      elif node==position: #enter loop to perform delete operation\n",
        "        previousNode.next = currentNode.next\n",
        "      else: #go to next iteration\n",
        "        previousNode= currentNode\n",
        "        currentNode= currentNode.next\n",
        "      \n"
      ],
      "execution_count": 0,
      "outputs": []
    },
    {
      "cell_type": "markdown",
      "metadata": {
        "id": "P2cfm9qaoyZi",
        "colab_type": "text"
      },
      "source": [
        "Linked list additional helper functions- class cannot have constructor which takes head as a parameter because when we try to remove the head and print the linked list, the old head will still be used as referance."
      ]
    },
    {
      "cell_type": "code",
      "metadata": {
        "id": "X3NGFdr2mXYq",
        "colab_type": "code",
        "colab": {}
      },
      "source": [
        "class LinkedListHelper:\n",
        "  def listLenght(self,myLinkedListHead):\n",
        "    if myLinkedListHead==None:\n",
        "      return 0\n",
        "    myLinkedListLength= 0\n",
        "    currentNode= myLinkedListHead\n",
        "    while True:\n",
        "      myLinkedListLength+= 1\n",
        "      if currentNode.next == None:\n",
        "        break\n",
        "      currentNode= currentNode.next\n",
        "    return myLinkedListLength\n",
        "\n",
        "  def allData(self,myLinkedListHead):\n",
        "    myLinkedListData= []\n",
        "    if myLinkedListHead==None:\n",
        "      return myLinkedListData\n",
        "    currentNode= myLinkedListHead\n",
        "    while True:\n",
        "      myLinkedListData.append(currentNode.data)\n",
        "      if currentNode.next == None:\n",
        "        break\n",
        "      currentNode = currentNode.next\n",
        "    return myLinkedListData\n",
        "\n",
        "  def printAllData(self,myLinkedListHead):\n",
        "    if myLinkedListHead==None:\n",
        "      print(\"No elements exists in linked list\")\n",
        "    currentNode = myLinkedListHead\n",
        "    while True:\n",
        "      print(currentNode.data)\n",
        "      if currentNode.next == None:\n",
        "        break\n",
        "      currentNode = currentNode.next"
      ],
      "execution_count": 0,
      "outputs": []
    },
    {
      "cell_type": "markdown",
      "metadata": {
        "id": "8mjF1ae2o_L1",
        "colab_type": "text"
      },
      "source": [
        "Test the logic - LINEAR"
      ]
    },
    {
      "cell_type": "code",
      "metadata": {
        "id": "d1OPIb5gmSUt",
        "colab_type": "code",
        "outputId": "441d63dd-27ca-4e61-992a-a3546c4a5874",
        "colab": {
          "base_uri": "https://localhost:8080/",
          "height": 663
        }
      },
      "source": [
        "if __name__=='__main__':\n",
        "  print(\"LINEAR LINKED LIST\")\n",
        "  myLinkedList = LinkedList()\n",
        "  firstNode = Node(1)\n",
        "  secondNode = Node(2)\n",
        "  thirdNode = Node(3)\n",
        "  forthNode = Node(4)\n",
        "  fifthNode = Node(5)\n",
        "\n",
        "  newNode = Node(5.56)\n",
        "\n",
        "  myLinkedList.head= firstNode\n",
        "  print(\"push the nodes at the end of the linked list\")\n",
        "  myOperation = LinkedListOperationsHelper(myLinkedList,firstNode)\n",
        "  myOperation.push(secondNode)\n",
        "  myOperation.push(thirdNode)\n",
        "  myOperation.push(forthNode)\n",
        "  myOperation.push(fifthNode)\n",
        "\n",
        "  myHelper= LinkedListHelper()\n",
        "  \n",
        "  print(\"Linked list lenght \"+ str(myHelper.listLenght(myLinkedList.head)))\n",
        "  print(\"---------------\")\n",
        "  print(\"Print all linked list data\")\n",
        "  myHelper.printAllData(myLinkedList.head)\n",
        "  print(\"---------------\")\n",
        "  print(\"Get and print linked list data\")\n",
        "  myAllData=myHelper.allData(myLinkedList.head)\n",
        "  for t in range(len(myAllData)):\n",
        "    print(myAllData[t])\n",
        "  \n",
        "  print(\"---------------\")\n",
        "  print(\"Add 5.56 to node 2 (0,1,2)\")\n",
        "  myOperation.addToLinkedList(newNode,2)\n",
        "  myHelper.printAllData(myLinkedList.head)\n",
        "\n",
        "  print(\"---------------\")\n",
        "  print(\"Delete the zeroth node\")\n",
        "  myOperation.deleteFromLinkedList(0)\n",
        "  myHelper.printAllData(myLinkedList.head)\n",
        "\n",
        "  print(\"---------------\")\n",
        "  print(\"pop (remove last node)\")\n",
        "  myOperation.pop()\n",
        "  myHelper.printAllData(myLinkedList.head)"
      ],
      "execution_count": 20,
      "outputs": [
        {
          "output_type": "stream",
          "text": [
            "LINEAR LINKED LIST\n",
            "push the nodes at the end of the linked list\n",
            "Linked list lenght 5\n",
            "---------------\n",
            "Print all linked list data\n",
            "1\n",
            "2\n",
            "3\n",
            "4\n",
            "5\n",
            "---------------\n",
            "Get and print linked list data\n",
            "1\n",
            "2\n",
            "3\n",
            "4\n",
            "5\n",
            "---------------\n",
            "Add 5.56 to node 2 (0,1,2)\n",
            "1\n",
            "2\n",
            "3\n",
            "5.56\n",
            "4\n",
            "5\n",
            "---------------\n",
            "Delete the zeroth node\n",
            "2\n",
            "3\n",
            "5.56\n",
            "4\n",
            "5\n",
            "---------------\n",
            "pop (remove last node)\n",
            "2\n",
            "3\n",
            "5.56\n",
            "4\n"
          ],
          "name": "stdout"
        }
      ]
    }
  ]
}