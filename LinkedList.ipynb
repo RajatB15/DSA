{
  "nbformat": 4,
  "nbformat_minor": 0,
  "metadata": {
    "colab": {
      "name": "LinkedList.ipynb",
      "provenance": [],
      "authorship_tag": "ABX9TyPlupU1j8zvtlezFQs1CGKC",
      "include_colab_link": true
    },
    "kernelspec": {
      "name": "python3",
      "display_name": "Python 3"
    }
  },
  "cells": [
    {
      "cell_type": "markdown",
      "metadata": {
        "id": "view-in-github",
        "colab_type": "text"
      },
      "source": [
        "<a href=\"https://colab.research.google.com/github/RajatB15/DSA/blob/master/LinkedList.ipynb\" target=\"_parent\"><img src=\"https://colab.research.google.com/assets/colab-badge.svg\" alt=\"Open In Colab\"/></a>"
      ]
    },
    {
      "cell_type": "markdown",
      "metadata": {
        "id": "QjT-uuACZ65R",
        "colab_type": "text"
      },
      "source": [
        "# Linked **list**"
      ]
    },
    {
      "cell_type": "code",
      "metadata": {
        "id": "zsPmRwq8n8MZ",
        "colab_type": "code",
        "colab": {}
      },
      "source": [
        "class Node:\n",
        "  def __init__(self,data):\n",
        "    self.data=  data\n",
        "    self.next= None\n",
        "\n",
        "class LinkedList:\n",
        "  def __init__(self):\n",
        "    self.head= None\n"
      ],
      "execution_count": 0,
      "outputs": []
    },
    {
      "cell_type": "code",
      "metadata": {
        "id": "X3NGFdr2mXYq",
        "colab_type": "code",
        "colab": {}
      },
      "source": [
        "class LinkedListHelper:\n",
        "  def listLenght(self,myLinkedListHead):\n",
        "    if myLinkedListHead==None:\n",
        "      return 0\n",
        "    myLinkedListLength= 0\n",
        "    currentNode= myLinkedListHead\n",
        "    while True:\n",
        "      myLinkedListLength+= 1\n",
        "      if currentNode.next == None:\n",
        "        break\n",
        "      currentNode= currentNode.next\n",
        "    return myLinkedListLength\n",
        "\n",
        "  def allData(self,myLinkedListHead):\n",
        "    myLinkedListData= []\n",
        "    if myLinkedListHead==None:\n",
        "      return myLinkedListData\n",
        "    currentNode= myLinkedListHead\n",
        "    while True:\n",
        "      myLinkedListData.append(currentNode.data)\n",
        "      if currentNode.next == None:\n",
        "        break\n",
        "      currentNode = currentNode.next\n",
        "    return myLinkedListData\n",
        "\n",
        "  def printAllData(self,myLinkedListHead):\n",
        "    if myLinkedListHead==None:\n",
        "      print(\"No elements exists in linked list\")\n",
        "    currentNode = myLinkedListHead\n",
        "    while True:\n",
        "      print(currentNode.data)\n",
        "      if currentNode.next == None:\n",
        "        break\n",
        "      currentNode = currentNode.next"
      ],
      "execution_count": 0,
      "outputs": []
    },
    {
      "cell_type": "code",
      "metadata": {
        "id": "YWsMsWw3mU8X",
        "colab_type": "code",
        "colab": {}
      },
      "source": [
        "class LinkedListOperationsHelper:\n",
        "\n",
        "  def __init__(self,head):\n",
        "    self.firstHead = head\n",
        "\n",
        "  def addToLinkedList(self,head,node,position):\n",
        "    currentNode= head\n",
        "    nodeCounter = 0 \n",
        "    while True:\n",
        "       currentNode= currentNode.next\n",
        "       nodeCounter+=1\n",
        "       if nodeCounter==position:\n",
        "         node.next = currentNode.next\n",
        "         currentNode.next = node\n",
        "         break    "
      ],
      "execution_count": 0,
      "outputs": []
    },
    {
      "cell_type": "code",
      "metadata": {
        "id": "d1OPIb5gmSUt",
        "colab_type": "code",
        "colab": {
          "base_uri": "https://localhost:8080/",
          "height": 408
        },
        "outputId": "94132e03-7938-4491-9d19-1e26a0b2567a"
      },
      "source": [
        "if __name__=='__main__':\n",
        "  myLinkedList = LinkedList()\n",
        "  firstNode = Node(1)\n",
        "  secondNode = Node(2)\n",
        "  thirdNode = Node(3)\n",
        "  forthNode = Node(4)\n",
        "  fifthNode = Node(5)\n",
        "\n",
        "  newNode = Node(5.56)\n",
        "  myLinkedList.head= firstNode\n",
        "  myLinkedList.head.next = secondNode\n",
        "  secondNode.next = thirdNode\n",
        "  thirdNode.next = forthNode\n",
        "  forthNode.next = fifthNode\n",
        "\n",
        "\n",
        "  myHelper= LinkedListHelper()\n",
        "  \n",
        "  print(\"Linked list lenght \"+ str(myHelper.listLenght(myLinkedList.head)))\n",
        "  print(\"---------------\")\n",
        "  print(\"Print all linked list data\")\n",
        "  myHelper.printAllData(myLinkedList.head)\n",
        "  print(\"---------------\")\n",
        "  print(\"Get and print linked list data\")\n",
        "  myAllData=myHelper.allData(myLinkedList.head)\n",
        "  for t in range(len(myAllData)):\n",
        "    print(myAllData[t])\n",
        "  \n",
        "  print(\"---------------\")\n",
        "  print(\"Add 5.56 to node 2 (0,1,2)\")\n",
        "  myOperation = LinkedListOperationsHelper(myLinkedList.head)\n",
        "  myOperation.addToLinkedList(firstNode,newNode,2)\n",
        "  myHelper.printAllData(myLinkedList.head)"
      ],
      "execution_count": 20,
      "outputs": [
        {
          "output_type": "stream",
          "text": [
            "Linked list lenght 5\n",
            "---------------\n",
            "Print all linked list data\n",
            "1\n",
            "2\n",
            "3\n",
            "4\n",
            "5\n",
            "---------------\n",
            "Get and print linked list data\n",
            "1\n",
            "2\n",
            "3\n",
            "4\n",
            "5\n",
            "---------------\n",
            "Add 5.56 to node 2 (0,1,2)\n",
            "1\n",
            "2\n",
            "3\n",
            "5.56\n",
            "4\n",
            "5\n"
          ],
          "name": "stdout"
        }
      ]
    }
  ]
}