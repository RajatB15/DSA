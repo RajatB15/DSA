{
  "nbformat": 4,
  "nbformat_minor": 0,
  "metadata": {
    "colab": {
      "name": "Recursion.ipynb",
      "private_outputs": true,
      "provenance": [],
      "authorship_tag": "ABX9TyOTmldmDuWciQfSqT7NEgIF",
      "include_colab_link": true
    },
    "kernelspec": {
      "name": "python3",
      "display_name": "Python 3"
    },
    "language_info": {
      "name": "python"
    }
  },
  "cells": [
    {
      "cell_type": "markdown",
      "metadata": {
        "id": "view-in-github",
        "colab_type": "text"
      },
      "source": [
        "<a href=\"https://colab.research.google.com/github/RajatB15/DSA/blob/master/Recursion.ipynb\" target=\"_parent\"><img src=\"https://colab.research.google.com/assets/colab-badge.svg\" alt=\"Open In Colab\"/></a>"
      ]
    },
    {
      "cell_type": "markdown",
      "metadata": {
        "id": "IRgCewL-4zLn"
      },
      "source": [
        "Towers of hanoi"
      ]
    },
    {
      "cell_type": "code",
      "metadata": {
        "id": "FW30vu204wAH"
      },
      "source": [
        "def tower_solver(numberOfDisks,start,end):\n",
        "  if numberOfDisks == 1: #base case \n",
        "    print_moves(start,end)\n",
        "  else:\n",
        "    otherTower= 6-(start+end)\n",
        "    tower_solver(numberOfDisks-1,start,otherTower) #n-1 case\n",
        "    tower_solver(1,start,end)\n",
        "    tower_solver(numberOfDisks-1,otherTower,end)\n",
        "\n",
        "def print_moves(start,end):\n",
        "  print(\"from\")\n",
        "  print(start)\n",
        "  print(\"to\")\n",
        "  print(end)\n",
        "\n",
        "tower_solver(6,1,3)"
      ],
      "execution_count": null,
      "outputs": []
    },
    {
      "cell_type": "markdown",
      "metadata": {
        "id": "SfxYWJGP6hsw"
      },
      "source": [
        "Strategy to solve recursive problem w.r.t previous problem \n",
        "\n",
        "1. solve for n=1 case (base cases) -> show f(1) works\n",
        "2. write up a solution for n-1 cases (recursive leap of faith) -> Assume f(n-1) works\n",
        "3. prove that the solution works for f(n) with f(n-1)-> Show f(n) works using f(n-1)"
      ]
    },
    {
      "cell_type": "markdown",
      "metadata": {
        "id": "555Rg38u7it1"
      },
      "source": [
        "Given an array, check whether lhc array is in sorted order with recursion. \n"
      ]
    },
    {
      "cell_type": "code",
      "metadata": {
        "id": "5wuPHBdC7jtV"
      },
      "source": [
        "def isSorted(a):\n",
        "  if len(a)==1:     #base case\n",
        "    return True  \n",
        "  return a[0]<=a[1] and isSorted(a[1:]) #n-1 case \n",
        "\n",
        "x= [1,3,2,4,5]\n",
        "isSorted(x)"
      ],
      "execution_count": null,
      "outputs": []
    }
  ]
}